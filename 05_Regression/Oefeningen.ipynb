{
 "cells": [
  {
   "cell_type": "markdown",
   "id": "cb55655d",
   "metadata": {},
   "source": [
    "# Oefening Lineare Regressie\n",
    "\n",
    "In deze oefening ga je verder oefenen op het gebruik van Python en een aantal data packages.\n",
    "Los onderstaande vragen op door code te schrijven in de code cellen.\n",
    "Zorg ervoor dat deze cellen vanboven naar beneden in het document uitgevoerd kunnen worden (Cell > Run All).\n",
    "Verwijder ook de output voor het indienen om de bestandsgrootte te beperken (Cell > All Output > Clear). \n",
    "\n",
    "Om de dataset te kunnen downloaden met onderstaande code heb je een api-key nodig van Kaggle.\n",
    "Deze vind je door naar https://www.kaggle.com/ te gaan en rechtsbovenaan op je icoontje te duwen en naar je account-settings te gaan.\n",
    "Als je een beetje naar beneden scrolt, zie je een knop staan 'Create New API Token'.\n",
    "Dit download een file waarin je de nodige gegevens vindt om datasets te kunnen downloaden.\n",
    "\n",
    "Vergeet ook niet te beantwoorden op de vragen over je oplossingen!\n",
    "\n",
    "De deadline voor deze opgave is: 6 oktober 23:59.\n",
    "\n",
    "## Opgave\n",
    "\n",
    "Bij regressie wordt er gezocht om een zo goed mogelijke voorspelling te maken van een continue waarde.\n",
    "Er moet dus gezocht worden naar een verband tussen de features en de target.\n",
    "In deze oefening wordt de impact van marketingbudget op de verkoopcijfers bestudeerd."
   ]
  },
  {
   "cell_type": "code",
   "execution_count": 1,
   "id": "ca666380",
   "metadata": {},
   "outputs": [],
   "source": [
    "# imports \n",
    "import numpy as np\n",
    "import pandas as pd \n",
    "import opendatasets as od\n",
    "from zipfile import ZipFile\n",
    "\n",
    "# Machine Learning tools\n",
    "from sklearn import linear_model\n",
    "from sklearn.preprocessing import StandardScaler\n",
    "from sklearn.model_selection import train_test_split\n",
    "from sklearn import preprocessing\n",
    "from sklearn.preprocessing import PolynomialFeatures\n",
    "from sklearn.linear_model import LinearRegression\n",
    "from sklearn.linear_model import Ridge\n",
    "from sklearn.linear_model import Lasso\n",
    "from sklearn.metrics import mean_squared_error\n",
    "from sklearn.metrics import mean_absolute_error\n",
    "from sklearn.metrics import r2_score\n",
    "\n",
    "# Visualisatie\n",
    "import matplotlib.pyplot as plt\n",
    "import seaborn as sns; sns.set(color_codes=True)\n",
    "\n",
    "%matplotlib inline"
   ]
  },
  {
   "cell_type": "markdown",
   "id": "6d00e808",
   "metadata": {},
   "source": [
    "## Marketingbudget vs Verkoopcijfers\n",
    "\n",
    "Zoals aangehaald hierboven gaat de eerste oefening over de impact van het marketing budget op de behaalde verkoopcijfers.\n",
    "De dataset die hiervoor gebruikt kan worden vind je hier: https://www.kaggle.com/ashydv/advertising-dataset.\n",
    "\n",
    "Begin met in de cel hieronder de dataset te downloaden en in te laden"
   ]
  },
  {
   "cell_type": "code",
   "execution_count": null,
   "id": "5e61f228",
   "metadata": {},
   "outputs": [],
   "source": [
    "od.download(\"https://www.kaggle.com/ashydv/advertising-dataset\")"
   ]
  },
  {
   "cell_type": "code",
   "execution_count": 2,
   "id": "5e7ad7a5",
   "metadata": {},
   "outputs": [],
   "source": [
    "df_advertising = pd.read_csv(\".\\\\advertising-dataset\\\\advertising.csv\")"
   ]
  },
  {
   "cell_type": "markdown",
   "id": "ac250f79",
   "metadata": {},
   "source": [
    "### Data Analysis\n",
    "\n",
    "**Bereken de statische eigenschappen van alle features (max, min, gemiddelde en standaardafwijking). Kan je hieruit bepaalde conclusies trekken?**\n",
    "\n",
    "Antwoord: Tv reclame heeft veruit het grootste budget. Gemiddelde van radio en krant is gelijkaardig maar de maxima liggen wel sterk uiteen."
   ]
  },
  {
   "cell_type": "code",
   "execution_count": 9,
   "id": "da0accd5",
   "metadata": {},
   "outputs": [
    {
     "data": {
      "text/html": [
       "<div>\n",
       "<style scoped>\n",
       "    .dataframe tbody tr th:only-of-type {\n",
       "        vertical-align: middle;\n",
       "    }\n",
       "\n",
       "    .dataframe tbody tr th {\n",
       "        vertical-align: top;\n",
       "    }\n",
       "\n",
       "    .dataframe thead th {\n",
       "        text-align: right;\n",
       "    }\n",
       "</style>\n",
       "<table border=\"1\" class=\"dataframe\">\n",
       "  <thead>\n",
       "    <tr style=\"text-align: right;\">\n",
       "      <th></th>\n",
       "      <th>TV</th>\n",
       "      <th>Radio</th>\n",
       "      <th>Newspaper</th>\n",
       "      <th>Sales</th>\n",
       "    </tr>\n",
       "  </thead>\n",
       "  <tbody>\n",
       "    <tr>\n",
       "      <th>count</th>\n",
       "      <td>200.000000</td>\n",
       "      <td>200.000000</td>\n",
       "      <td>200.000000</td>\n",
       "      <td>200.000000</td>\n",
       "    </tr>\n",
       "    <tr>\n",
       "      <th>mean</th>\n",
       "      <td>147.042500</td>\n",
       "      <td>23.264000</td>\n",
       "      <td>30.554000</td>\n",
       "      <td>15.130500</td>\n",
       "    </tr>\n",
       "    <tr>\n",
       "      <th>std</th>\n",
       "      <td>85.854236</td>\n",
       "      <td>14.846809</td>\n",
       "      <td>21.778621</td>\n",
       "      <td>5.283892</td>\n",
       "    </tr>\n",
       "    <tr>\n",
       "      <th>min</th>\n",
       "      <td>0.700000</td>\n",
       "      <td>0.000000</td>\n",
       "      <td>0.300000</td>\n",
       "      <td>1.600000</td>\n",
       "    </tr>\n",
       "    <tr>\n",
       "      <th>25%</th>\n",
       "      <td>74.375000</td>\n",
       "      <td>9.975000</td>\n",
       "      <td>12.750000</td>\n",
       "      <td>11.000000</td>\n",
       "    </tr>\n",
       "    <tr>\n",
       "      <th>50%</th>\n",
       "      <td>149.750000</td>\n",
       "      <td>22.900000</td>\n",
       "      <td>25.750000</td>\n",
       "      <td>16.000000</td>\n",
       "    </tr>\n",
       "    <tr>\n",
       "      <th>75%</th>\n",
       "      <td>218.825000</td>\n",
       "      <td>36.525000</td>\n",
       "      <td>45.100000</td>\n",
       "      <td>19.050000</td>\n",
       "    </tr>\n",
       "    <tr>\n",
       "      <th>max</th>\n",
       "      <td>296.400000</td>\n",
       "      <td>49.600000</td>\n",
       "      <td>114.000000</td>\n",
       "      <td>27.000000</td>\n",
       "    </tr>\n",
       "  </tbody>\n",
       "</table>\n",
       "</div>"
      ],
      "text/plain": [
       "               TV       Radio   Newspaper       Sales\n",
       "count  200.000000  200.000000  200.000000  200.000000\n",
       "mean   147.042500   23.264000   30.554000   15.130500\n",
       "std     85.854236   14.846809   21.778621    5.283892\n",
       "min      0.700000    0.000000    0.300000    1.600000\n",
       "25%     74.375000    9.975000   12.750000   11.000000\n",
       "50%    149.750000   22.900000   25.750000   16.000000\n",
       "75%    218.825000   36.525000   45.100000   19.050000\n",
       "max    296.400000   49.600000  114.000000   27.000000"
      ]
     },
     "execution_count": 9,
     "metadata": {},
     "output_type": "execute_result"
    }
   ],
   "source": [
    "stats = df_advertising.describe()\n",
    "stats"
   ]
  },
  {
   "cell_type": "markdown",
   "id": "288fae46",
   "metadata": {},
   "source": [
    "**Zijn er outliers in deze dataset? Dit kan je zien door een groot verschil tussen maximum en 75% waarden (of minimum en 25%)**\n",
    "\n",
    "Antwoord:"
   ]
  },
  {
   "cell_type": "code",
   "execution_count": 8,
   "id": "eff3bd86",
   "metadata": {},
   "outputs": [
    {
     "data": {
      "text/plain": [
       "TV           0.261724\n",
       "Radio        0.263609\n",
       "Newspaper    0.604386\n",
       "Sales        0.294444\n",
       "dtype: float64"
      ]
     },
     "execution_count": 8,
     "metadata": {},
     "output_type": "execute_result"
    }
   ],
   "source": [
    "# kan visueel gecontroleerd worden\n",
    "\n",
    "# of geteld door middel van ze te detecteren\n",
    "(stats.loc[\"max\"]-stats.loc[\"75%\"]) / stats.loc[\"max\"]"
   ]
  },
  {
   "cell_type": "markdown",
   "id": "17461d9b",
   "metadata": {},
   "source": [
    "### Preprocessing van de dataset\n",
    "\n",
    "De bovenstaande dataset bevat zowel de features als de target waarden.\n",
    "Splits nu de dataset in twee zodat de features in een apart object zetten en niet meer samen met je features.\n",
    "Daarna moeten de features en targets nog verdeeld worden in een trainingsset en testset.\n",
    "Doe dit hieronder:"
   ]
  },
  {
   "cell_type": "code",
   "execution_count": 11,
   "id": "79872019",
   "metadata": {},
   "outputs": [
    {
     "name": "stdout",
     "output_type": "stream",
     "text": [
      "(200, 3) (150, 3)\n"
     ]
    }
   ],
   "source": [
    "y = df_advertising.Sales\n",
    "X = df_advertising.drop(\"Sales\", axis=1)\n",
    "X_train, X_test, y_train, y_test = train_test_split(X, y, shuffle=True)\n",
    "print(X.shape, X_train.shape)"
   ]
  },
  {
   "cell_type": "markdown",
   "id": "2f8325bb",
   "metadata": {},
   "source": [
    "Uit de statistische gegevens hierboven zagen we dat de schaal van de features niet gelijk is voor alle features. \n",
    "Een normalisatie-stap dringt zich op om dit te corrigeren voor de performantie en accuraatheid van het model. \n",
    "Zorg in de cel hieronder dat zowel je trainingsdata en testdata correct genormaliseerd is met gemiddelde 0 en standaardafwijking 1."
   ]
  },
  {
   "cell_type": "code",
   "execution_count": 14,
   "id": "570c5f84",
   "metadata": {
    "scrolled": false
   },
   "outputs": [
    {
     "data": {
      "text/html": [
       "<div>\n",
       "<style scoped>\n",
       "    .dataframe tbody tr th:only-of-type {\n",
       "        vertical-align: middle;\n",
       "    }\n",
       "\n",
       "    .dataframe tbody tr th {\n",
       "        vertical-align: top;\n",
       "    }\n",
       "\n",
       "    .dataframe thead th {\n",
       "        text-align: right;\n",
       "    }\n",
       "</style>\n",
       "<table border=\"1\" class=\"dataframe\">\n",
       "  <thead>\n",
       "    <tr style=\"text-align: right;\">\n",
       "      <th></th>\n",
       "      <th>TV</th>\n",
       "      <th>Radio</th>\n",
       "      <th>Newspaper</th>\n",
       "    </tr>\n",
       "  </thead>\n",
       "  <tbody>\n",
       "    <tr>\n",
       "      <th>54</th>\n",
       "      <td>262.7</td>\n",
       "      <td>28.8</td>\n",
       "      <td>15.9</td>\n",
       "    </tr>\n",
       "    <tr>\n",
       "      <th>124</th>\n",
       "      <td>229.5</td>\n",
       "      <td>32.3</td>\n",
       "      <td>74.2</td>\n",
       "    </tr>\n",
       "    <tr>\n",
       "      <th>128</th>\n",
       "      <td>220.3</td>\n",
       "      <td>49.0</td>\n",
       "      <td>3.2</td>\n",
       "    </tr>\n",
       "    <tr>\n",
       "      <th>58</th>\n",
       "      <td>210.8</td>\n",
       "      <td>49.6</td>\n",
       "      <td>37.7</td>\n",
       "    </tr>\n",
       "    <tr>\n",
       "      <th>64</th>\n",
       "      <td>131.1</td>\n",
       "      <td>42.8</td>\n",
       "      <td>28.9</td>\n",
       "    </tr>\n",
       "    <tr>\n",
       "      <th>...</th>\n",
       "      <td>...</td>\n",
       "      <td>...</td>\n",
       "      <td>...</td>\n",
       "    </tr>\n",
       "    <tr>\n",
       "      <th>36</th>\n",
       "      <td>266.9</td>\n",
       "      <td>43.8</td>\n",
       "      <td>5.0</td>\n",
       "    </tr>\n",
       "    <tr>\n",
       "      <th>37</th>\n",
       "      <td>74.7</td>\n",
       "      <td>49.4</td>\n",
       "      <td>45.7</td>\n",
       "    </tr>\n",
       "    <tr>\n",
       "      <th>55</th>\n",
       "      <td>198.9</td>\n",
       "      <td>49.4</td>\n",
       "      <td>60.0</td>\n",
       "    </tr>\n",
       "    <tr>\n",
       "      <th>32</th>\n",
       "      <td>97.2</td>\n",
       "      <td>1.5</td>\n",
       "      <td>30.0</td>\n",
       "    </tr>\n",
       "    <tr>\n",
       "      <th>48</th>\n",
       "      <td>227.2</td>\n",
       "      <td>15.8</td>\n",
       "      <td>49.9</td>\n",
       "    </tr>\n",
       "  </tbody>\n",
       "</table>\n",
       "<p>150 rows × 3 columns</p>\n",
       "</div>"
      ],
      "text/plain": [
       "        TV  Radio  Newspaper\n",
       "54   262.7   28.8       15.9\n",
       "124  229.5   32.3       74.2\n",
       "128  220.3   49.0        3.2\n",
       "58   210.8   49.6       37.7\n",
       "64   131.1   42.8       28.9\n",
       "..     ...    ...        ...\n",
       "36   266.9   43.8        5.0\n",
       "37    74.7   49.4       45.7\n",
       "55   198.9   49.4       60.0\n",
       "32    97.2    1.5       30.0\n",
       "48   227.2   15.8       49.9\n",
       "\n",
       "[150 rows x 3 columns]"
      ]
     },
     "execution_count": 14,
     "metadata": {},
     "output_type": "execute_result"
    }
   ],
   "source": [
    "scaler = StandardScaler()\n",
    "# ook bij normalisatie enkel trainingsdata gebruiken en geen testdata\n",
    "scaler.fit(X_train)\n",
    "X_train_scaled = scaler.transform(X_train)\n",
    "# OF\n",
    "X_train_scaled = scaler.fit_transform(X_train)\n",
    "\n",
    "# test data wel schalen maar niet in de fit\n",
    "X_test_scaled = scaler.transform(X_test)\n",
    "X_train"
   ]
  },
  {
   "cell_type": "markdown",
   "id": "3f5dc2a5",
   "metadata": {},
   "source": [
    "### Enkelvoudige regresse\n",
    "\n",
    "Nu dat de data gepreprocessed is kan het model getrained worden om de verkoopcijfers te voorspellen. \n",
    "Doe dit eerst aan de hand van enkelvoudige regressie.\n",
    "Selecteer hiervoor de feature waarvan je denkt dat die het sterkste verband heeft met de output.\n",
    "Bereken voor het bekomen model de mean absolute error, mean squared error en $R^2$ score voor zowel de trainings als testset. \n",
    "Tip: schrijf hiervoor een functie waaraan je het model en de training en test data meegeeft om het te kunnen hergebruiken.\n",
    "\n",
    "**Kun je uit deze scores opmaken over er sprake is van overfitting of underfitting van het model?**\n",
    "\n",
    "Antwoord:R2 score op train en test is niet hoog (minder dan 0.8) dus is er sprake van underfitting (minder dan 0.8)"
   ]
  },
  {
   "cell_type": "code",
   "execution_count": null,
   "id": "1de3eff8",
   "metadata": {},
   "outputs": [],
   "source": []
  },
  {
   "cell_type": "code",
   "execution_count": 22,
   "id": "788664b4",
   "metadata": {},
   "outputs": [
    {
     "name": "stdout",
     "output_type": "stream",
     "text": [
      "Train:\n",
      "MAE: 1.7620058136467114\n",
      "MSE: 4.910967757563955\n",
      "R2: 0.7865898176091626\n",
      "Test:\n",
      "MAE: 2.0327380444204617\n",
      "MSE: 6.280776562521073\n",
      "R2: 0.767204622338012\n"
     ]
    }
   ],
   "source": [
    "def regression(model, X_train, X_test, y_train, y_test):\n",
    "    model.fit(X_train, y_train)\n",
    "    predictions_train = model.predict(X_train)\n",
    "    predictions = model.predict(X_test)\n",
    "    \n",
    "    print(\"Train:\")\n",
    "    print(\"MAE:\", mean_absolute_error(predictions_train, y_train))\n",
    "    print(\"MSE:\", mean_squared_error(predictions_train, y_train))\n",
    "    print(\"R2:\", r2_score(predictions_train, y_train))\n",
    "    print(\"Test:\")\n",
    "    print(\"MAE:\", mean_absolute_error(predictions, y_test))\n",
    "    print(\"MSE:\", mean_squared_error(predictions, y_test))\n",
    "    print(\"R2:\", r2_score(predictions, y_test))\n",
    "    \n",
    "\n",
    "model = LinearRegression()\n",
    "# hier kies ik 1 feature ([:, 0] zegt hou alle rijen over en kies kolom 0)\n",
    "regression(model, X_train_scaled[:,0].reshape(-1, 1), X_test_scaled[:,0].reshape(-1, 1), y_train, y_test)"
   ]
  },
  {
   "cell_type": "code",
   "execution_count": null,
   "id": "3fd7c89e",
   "metadata": {
    "scrolled": false
   },
   "outputs": [],
   "source": []
  },
  {
   "cell_type": "markdown",
   "id": "73ffdc34",
   "metadata": {},
   "source": [
    "### Modeloptimalisaties\n",
    "\n",
    "Na bovenstaande enkelvoudige regressies kunnen we nog een aantal optimalisaties doorvoeren. \n",
    "Geef voor elke van de onderstaande mogelijkheden dezelfde scores als bij de enkelvoudige regressie weer en geef weer in het antwoord of er overfitting of underfitting is.\n",
    "\n",
    "**Meervoudige regressie:** Gebruik all features uit de dataset\n",
    "\n",
    "Antwoord: Er is geen sprake van overfitting want verschil tussen train en test resultaten zijn klein. Underfitting is nog altijd mogelijk omdat de r2 score nog niet heel hoog is (nog niet boven de 0.9)"
   ]
  },
  {
   "cell_type": "code",
   "execution_count": 23,
   "id": "49e333bc",
   "metadata": {},
   "outputs": [
    {
     "name": "stdout",
     "output_type": "stream",
     "text": [
      "Train:\n",
      "MAE: 1.1949819679112295\n",
      "MSE: 2.570093630556764\n",
      "R2: 0.8986266166923342\n",
      "Test:\n",
      "MAE: 1.412351876146451\n",
      "MSE: 3.2007123896248597\n",
      "R2: 0.8822475049992767\n"
     ]
    }
   ],
   "source": [
    "model = LinearRegression()\n",
    "regression(model, X_train_scaled, X_test_scaled, y_train, y_test)"
   ]
  },
  {
   "cell_type": "markdown",
   "id": "13d93934",
   "metadata": {},
   "source": [
    "**Hogere-orde features:** Voeg manueel (zonder gebruik te maken van een functie) hogere-orde features toe aan de dataset. Kies zelf tot welke rang je gaat.\n",
    "\n",
    "Antwoord: Zowel de score op trainings als testdata is aan het verbeteren dus we gaan de goede kant op. Is er nog geen overfitting want het verschil test en trainingsdata is klein."
   ]
  },
  {
   "cell_type": "code",
   "execution_count": 24,
   "id": "b4d93705",
   "metadata": {},
   "outputs": [
    {
     "name": "stdout",
     "output_type": "stream",
     "text": [
      "Train:\n",
      "MAE: 1.0459607246146432\n",
      "MSE: 1.9263653271427323\n",
      "R2: 0.9234022201773353\n",
      "Test:\n",
      "MAE: 1.1784727388994904\n",
      "MSE: 2.3099846195063507\n",
      "R2: 0.9190422740743329\n"
     ]
    }
   ],
   "source": [
    "# voeg hogere orde features toe\n",
    "df_enhanced = df_advertising\n",
    "df_enhanced[\"TVSquared\"] = df_enhanced.TV **2\n",
    "df_enhanced[\"TVCube\"] = df_enhanced.TV **3\n",
    "df_enhanced[\"NewspaperSquared\"] = df_enhanced.Newspaper **2\n",
    "df_enhanced[\"NewspaperCube\"] = df_enhanced.Newspaper **3\n",
    "df_enhanced[\"RadioSquared\"] = df_enhanced.Radio **2\n",
    "df_enhanced[\"RadioCube\"] = df_enhanced.Radio **3\n",
    "\n",
    "# splits targets en features\n",
    "y2 = df_enhanced.Sales\n",
    "X2 = df_enhanced.drop(\"Sales\", axis=1)\n",
    "# verdeel in train en test data\n",
    "X_train2, X_test2, y_train2, y_test2 = train_test_split(X2, y2, shuffle=True)\n",
    "\n",
    "#normalisatie\n",
    "scaler = StandardScaler()\n",
    "X_train_scaled2 = scaler.fit_transform(X_train2)\n",
    "X_test_scaled2 = scaler.transform(X_test2)\n",
    "\n",
    "model = LinearRegression()\n",
    "regression(model, X_train_scaled2, X_test_scaled2, y_train2, y_test2)"
   ]
  },
  {
   "cell_type": "code",
   "execution_count": 26,
   "id": "45b4a8dc",
   "metadata": {},
   "outputs": [
    {
     "data": {
      "text/html": [
       "<div>\n",
       "<style scoped>\n",
       "    .dataframe tbody tr th:only-of-type {\n",
       "        vertical-align: middle;\n",
       "    }\n",
       "\n",
       "    .dataframe tbody tr th {\n",
       "        vertical-align: top;\n",
       "    }\n",
       "\n",
       "    .dataframe thead th {\n",
       "        text-align: right;\n",
       "    }\n",
       "</style>\n",
       "<table border=\"1\" class=\"dataframe\">\n",
       "  <thead>\n",
       "    <tr style=\"text-align: right;\">\n",
       "      <th></th>\n",
       "      <th>TV</th>\n",
       "      <th>Radio</th>\n",
       "      <th>Newspaper</th>\n",
       "      <th>Sales</th>\n",
       "      <th>TVSquared</th>\n",
       "      <th>TVCube</th>\n",
       "      <th>NewspaperSquared</th>\n",
       "      <th>NewspaperCube</th>\n",
       "      <th>RadioSquared</th>\n",
       "      <th>RadioCube</th>\n",
       "    </tr>\n",
       "  </thead>\n",
       "  <tbody>\n",
       "    <tr>\n",
       "      <th>0</th>\n",
       "      <td>230.1</td>\n",
       "      <td>37.8</td>\n",
       "      <td>69.2</td>\n",
       "      <td>22.1</td>\n",
       "      <td>52946.01</td>\n",
       "      <td>1.218288e+07</td>\n",
       "      <td>4788.64</td>\n",
       "      <td>331373.888</td>\n",
       "      <td>1428.84</td>\n",
       "      <td>54010.152</td>\n",
       "    </tr>\n",
       "    <tr>\n",
       "      <th>1</th>\n",
       "      <td>44.5</td>\n",
       "      <td>39.3</td>\n",
       "      <td>45.1</td>\n",
       "      <td>10.4</td>\n",
       "      <td>1980.25</td>\n",
       "      <td>8.812112e+04</td>\n",
       "      <td>2034.01</td>\n",
       "      <td>91733.851</td>\n",
       "      <td>1544.49</td>\n",
       "      <td>60698.457</td>\n",
       "    </tr>\n",
       "    <tr>\n",
       "      <th>2</th>\n",
       "      <td>17.2</td>\n",
       "      <td>45.9</td>\n",
       "      <td>69.3</td>\n",
       "      <td>12.0</td>\n",
       "      <td>295.84</td>\n",
       "      <td>5.088448e+03</td>\n",
       "      <td>4802.49</td>\n",
       "      <td>332812.557</td>\n",
       "      <td>2106.81</td>\n",
       "      <td>96702.579</td>\n",
       "    </tr>\n",
       "    <tr>\n",
       "      <th>3</th>\n",
       "      <td>151.5</td>\n",
       "      <td>41.3</td>\n",
       "      <td>58.5</td>\n",
       "      <td>16.5</td>\n",
       "      <td>22952.25</td>\n",
       "      <td>3.477266e+06</td>\n",
       "      <td>3422.25</td>\n",
       "      <td>200201.625</td>\n",
       "      <td>1705.69</td>\n",
       "      <td>70444.997</td>\n",
       "    </tr>\n",
       "    <tr>\n",
       "      <th>4</th>\n",
       "      <td>180.8</td>\n",
       "      <td>10.8</td>\n",
       "      <td>58.4</td>\n",
       "      <td>17.9</td>\n",
       "      <td>32688.64</td>\n",
       "      <td>5.910106e+06</td>\n",
       "      <td>3410.56</td>\n",
       "      <td>199176.704</td>\n",
       "      <td>116.64</td>\n",
       "      <td>1259.712</td>\n",
       "    </tr>\n",
       "    <tr>\n",
       "      <th>...</th>\n",
       "      <td>...</td>\n",
       "      <td>...</td>\n",
       "      <td>...</td>\n",
       "      <td>...</td>\n",
       "      <td>...</td>\n",
       "      <td>...</td>\n",
       "      <td>...</td>\n",
       "      <td>...</td>\n",
       "      <td>...</td>\n",
       "      <td>...</td>\n",
       "    </tr>\n",
       "    <tr>\n",
       "      <th>195</th>\n",
       "      <td>38.2</td>\n",
       "      <td>3.7</td>\n",
       "      <td>13.8</td>\n",
       "      <td>7.6</td>\n",
       "      <td>1459.24</td>\n",
       "      <td>5.574297e+04</td>\n",
       "      <td>190.44</td>\n",
       "      <td>2628.072</td>\n",
       "      <td>13.69</td>\n",
       "      <td>50.653</td>\n",
       "    </tr>\n",
       "    <tr>\n",
       "      <th>196</th>\n",
       "      <td>94.2</td>\n",
       "      <td>4.9</td>\n",
       "      <td>8.1</td>\n",
       "      <td>14.0</td>\n",
       "      <td>8873.64</td>\n",
       "      <td>8.358969e+05</td>\n",
       "      <td>65.61</td>\n",
       "      <td>531.441</td>\n",
       "      <td>24.01</td>\n",
       "      <td>117.649</td>\n",
       "    </tr>\n",
       "    <tr>\n",
       "      <th>197</th>\n",
       "      <td>177.0</td>\n",
       "      <td>9.3</td>\n",
       "      <td>6.4</td>\n",
       "      <td>14.8</td>\n",
       "      <td>31329.00</td>\n",
       "      <td>5.545233e+06</td>\n",
       "      <td>40.96</td>\n",
       "      <td>262.144</td>\n",
       "      <td>86.49</td>\n",
       "      <td>804.357</td>\n",
       "    </tr>\n",
       "    <tr>\n",
       "      <th>198</th>\n",
       "      <td>283.6</td>\n",
       "      <td>42.0</td>\n",
       "      <td>66.2</td>\n",
       "      <td>25.5</td>\n",
       "      <td>80428.96</td>\n",
       "      <td>2.280965e+07</td>\n",
       "      <td>4382.44</td>\n",
       "      <td>290117.528</td>\n",
       "      <td>1764.00</td>\n",
       "      <td>74088.000</td>\n",
       "    </tr>\n",
       "    <tr>\n",
       "      <th>199</th>\n",
       "      <td>232.1</td>\n",
       "      <td>8.6</td>\n",
       "      <td>8.7</td>\n",
       "      <td>18.4</td>\n",
       "      <td>53870.41</td>\n",
       "      <td>1.250332e+07</td>\n",
       "      <td>75.69</td>\n",
       "      <td>658.503</td>\n",
       "      <td>73.96</td>\n",
       "      <td>636.056</td>\n",
       "    </tr>\n",
       "  </tbody>\n",
       "</table>\n",
       "<p>200 rows × 10 columns</p>\n",
       "</div>"
      ],
      "text/plain": [
       "        TV  Radio  Newspaper  Sales  TVSquared        TVCube  \\\n",
       "0    230.1   37.8       69.2   22.1   52946.01  1.218288e+07   \n",
       "1     44.5   39.3       45.1   10.4    1980.25  8.812112e+04   \n",
       "2     17.2   45.9       69.3   12.0     295.84  5.088448e+03   \n",
       "3    151.5   41.3       58.5   16.5   22952.25  3.477266e+06   \n",
       "4    180.8   10.8       58.4   17.9   32688.64  5.910106e+06   \n",
       "..     ...    ...        ...    ...        ...           ...   \n",
       "195   38.2    3.7       13.8    7.6    1459.24  5.574297e+04   \n",
       "196   94.2    4.9        8.1   14.0    8873.64  8.358969e+05   \n",
       "197  177.0    9.3        6.4   14.8   31329.00  5.545233e+06   \n",
       "198  283.6   42.0       66.2   25.5   80428.96  2.280965e+07   \n",
       "199  232.1    8.6        8.7   18.4   53870.41  1.250332e+07   \n",
       "\n",
       "     NewspaperSquared  NewspaperCube  RadioSquared  RadioCube  \n",
       "0             4788.64     331373.888       1428.84  54010.152  \n",
       "1             2034.01      91733.851       1544.49  60698.457  \n",
       "2             4802.49     332812.557       2106.81  96702.579  \n",
       "3             3422.25     200201.625       1705.69  70444.997  \n",
       "4             3410.56     199176.704        116.64   1259.712  \n",
       "..                ...            ...           ...        ...  \n",
       "195            190.44       2628.072         13.69     50.653  \n",
       "196             65.61        531.441         24.01    117.649  \n",
       "197             40.96        262.144         86.49    804.357  \n",
       "198           4382.44     290117.528       1764.00  74088.000  \n",
       "199             75.69        658.503         73.96    636.056  \n",
       "\n",
       "[200 rows x 10 columns]"
      ]
     },
     "execution_count": 26,
     "metadata": {},
     "output_type": "execute_result"
    }
   ],
   "source": [
    "df_enhanced\n",
    "# f(x) = w_0 + w_1 TV + w_2 krant..\n",
    "# f(x) = w_0 + w_1 TV + w_2 TV^2 + w_3 TV^3 + w_4 krant ..."
   ]
  },
  {
   "cell_type": "markdown",
   "id": "efe58896",
   "metadata": {},
   "source": [
    "**Hogere-orde features:** Gebruik nu terug alle features en voeg de hogere-orde features toe door tot rang 5 door gebruik te maken van een functie. Hoeveel features worden er dan gebruikt om het target te voorspellen?\n",
    "\n",
    "Antwoord: In vergelijking met het vorige resultaat is de score van op de trainingsdata verbeterd maar op de testdata is het verslechterd. We zijn dus beginnen overfitten."
   ]
  },
  {
   "cell_type": "code",
   "execution_count": 36,
   "id": "12127264",
   "metadata": {},
   "outputs": [
    {
     "name": "stdout",
     "output_type": "stream",
     "text": [
      "Train:\n",
      "MAE: 0.6656241861979166\n",
      "MSE: 0.7927714563588301\n",
      "R2: 0.9711720343018676\n",
      "Test:\n",
      "MAE: 1.2878593749999998\n",
      "MSE: 2.668958458596468\n",
      "R2: 0.8827904694336216\n"
     ]
    }
   ],
   "source": [
    "higher_order = PolynomialFeatures(5)\n",
    "X_train_scaled3 = higher_order.fit_transform(X_train_scaled)\n",
    "X_test_scaled3 = higher_order.transform(X_test_scaled)\n",
    "\n",
    "model = LinearRegression()\n",
    "regression(model, X_train_scaled3, X_test_scaled3, y_train, y_test)"
   ]
  },
  {
   "cell_type": "markdown",
   "id": "8a74e8ab",
   "metadata": {},
   "source": [
    "**Regularisatie:** Voer regularisatie toe aan het model. Ga op zoek naar een goede waarde voor de $\\alpha$ of $\\lambda$. Probeer dit met zowel de L2-norm als de L1-norm. Welke geeft het beste resulaat?\n",
    "\n",
    "Antwoord: ..."
   ]
  },
  {
   "cell_type": "code",
   "execution_count": 47,
   "id": "7d70366c",
   "metadata": {},
   "outputs": [
    {
     "name": "stdout",
     "output_type": "stream",
     "text": [
      "Train:\n",
      "MAE: 0.6634113940756877\n",
      "MSE: 0.873036290655989\n",
      "R2: 0.9670694898519597\n",
      "Test:\n",
      "MAE: 1.1650853447655345\n",
      "MSE: 2.613312782648306\n",
      "R2: 0.8859609371245325\n"
     ]
    }
   ],
   "source": [
    "model = Ridge(alpha=2)\n",
    "regression(model, X_train_scaled3, X_test_scaled3, y_train, y_test)"
   ]
  },
  {
   "cell_type": "code",
   "execution_count": 43,
   "id": "c33c9d75",
   "metadata": {},
   "outputs": [
    {
     "name": "stdout",
     "output_type": "stream",
     "text": [
      "Train:\n",
      "MAE: 0.7817690291416881\n",
      "MSE: 1.1345551215670795\n",
      "R2: 0.956563916537474\n",
      "Test:\n",
      "MAE: 1.2287304359158449\n",
      "MSE: 2.3908448558296937\n",
      "R2: 0.8980397941720484\n"
     ]
    }
   ],
   "source": [
    "model = Lasso(alpha=0.05)\n",
    "regression(model, X_train_scaled3, X_test_scaled3, y_train, y_test)"
   ]
  },
  {
   "cell_type": "code",
   "execution_count": null,
   "id": "112ca6de",
   "metadata": {},
   "outputs": [],
   "source": []
  }
 ],
 "metadata": {
  "kernelspec": {
   "display_name": "Python 3",
   "language": "python",
   "name": "python3"
  },
  "language_info": {
   "codemirror_mode": {
    "name": "ipython",
    "version": 3
   },
   "file_extension": ".py",
   "mimetype": "text/x-python",
   "name": "python",
   "nbconvert_exporter": "python",
   "pygments_lexer": "ipython3",
   "version": "3.8.8"
  }
 },
 "nbformat": 4,
 "nbformat_minor": 5
}
